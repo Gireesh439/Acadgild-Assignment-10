{
 "cells": [
  {
   "cell_type": "markdown",
   "metadata": {},
   "source": [
    "### AcadGild Assignment 10.1\n",
    "\n",
    "Questions:\n",
    "1. Delete unnamed columns\n",
    "2. Show the distribution of male and female\n",
    "3. Show the top 5 most preferred names\n",
    "4. What is the median name occurence in the dataset\n",
    "5. Distribution of male and female born count by states\n"
   ]
  },
  {
   "cell_type": "code",
   "execution_count": null,
   "metadata": {},
   "outputs": [],
   "source": [
    "# Read In Remote CSV Dataset\n",
    "\n",
    "import pandas as pd\n",
    "import numpy as np\n",
    "import os\n",
    "\n",
    "# Save remote data locally\n",
    "data = pd.read_csv(\"https://raw.githubusercontent.com/guipsamora/pandas_exercises/master/06_Stats/US_Baby_Names/US_Baby_Names_right.csv\")\n",
    "#df.to_csv(\"save_names.csv\")\n",
    "# os.listdir()\n",
    "#\n",
    "# Now use local data\n",
    "#data = pd.read_csv(\"save_names.csv\")\n",
    "\n",
    "#df=pd.DataFrame(data)\n",
    "\n",
    "data.head(5)"
   ]
  },
  {
   "cell_type": "markdown",
   "metadata": {},
   "source": [
    "\n",
    "-- delete unnamed columns"
   ]
  },
  {
   "cell_type": "code",
   "execution_count": null,
   "metadata": {},
   "outputs": [],
   "source": [
    "# Delete ONE Column at a time\n",
    "# df.drop('Unnamed: 0', axis=1, inplace=True)  # remember must add axis to drop column\n",
    "# Delete TWO Columns at a time (extra column inserted on local save)\n",
    "# df.drop(['Unnamed: 0','Unnamed: 0.1'], axis=1, inplace=True)  # remember must add axis to drop column\n",
    "# del df['Unnamed: 0']\n",
    "data.drop(['Unnamed: 0'], axis=1, inplace=True) \n",
    "\n",
    "data.head(5)"
   ]
  },
  {
   "cell_type": "markdown",
   "metadata": {},
   "source": [
    "\n",
    "-- show the distribution of male and female names\n"
   ]
  },
  {
   "cell_type": "code",
   "execution_count": null,
   "metadata": {},
   "outputs": [],
   "source": [
    "\n",
    "data['Gender'].value_counts()\n"
   ]
  },
  {
   "cell_type": "markdown",
   "metadata": {},
   "source": [
    "\n",
    "-- show the top 5 preferred names in the series"
   ]
  },
  {
   "cell_type": "code",
   "execution_count": null,
   "metadata": {},
   "outputs": [],
   "source": [
    "# group by name\n",
    "data_names = data.groupby(\"Name\").sum()\n",
    "\n",
    "# sort name descending (which means setting ascending to false or \"0\")\n",
    "data_names.sort_values(\"Count\", ascending = 0).head(5)"
   ]
  },
  {
   "cell_type": "markdown",
   "metadata": {},
   "source": [
    "\n",
    "-- Show the median name occurrence in the series"
   ]
  },
  {
   "cell_type": "code",
   "execution_count": null,
   "metadata": {},
   "outputs": [],
   "source": [
    "data_names[data_names.Count == data_names.Count.median()]"
   ]
  },
  {
   "cell_type": "markdown",
   "metadata": {},
   "source": [
    "\n",
    "-- Show distribution of male and female names by state (interestingly California and Texas have the highest counts) :)"
   ]
  },
  {
   "cell_type": "code",
   "execution_count": null,
   "metadata": {},
   "outputs": [],
   "source": [
    "\n",
    "data['State'].value_counts()\n"
   ]
  },
  {
   "cell_type": "markdown",
   "metadata": {},
   "source": [
    "\n"
   ]
  }
 ],
 "metadata": {
  "kernelspec": {
   "display_name": "Python 3",
   "language": "python",
   "name": "python3"
  },
  "language_info": {
   "codemirror_mode": {
    "name": "ipython",
    "version": 3
   },
   "file_extension": ".py",
   "mimetype": "text/x-python",
   "name": "python",
   "nbconvert_exporter": "python",
   "pygments_lexer": "ipython3",
   "version": "3.6.5"
  }
 },
 "nbformat": 4,
 "nbformat_minor": 2
}
